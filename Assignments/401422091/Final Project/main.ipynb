{
 "cells": [
  {
   "attachments": {},
   "cell_type": "markdown",
   "metadata": {},
   "source": [
    "Import libraries"
   ]
  },
  {
   "cell_type": "code",
   "execution_count": 13,
   "metadata": {},
   "outputs": [],
   "source": [
    "import pandas as pd\n",
    "from pulp import *\n",
    "import random"
   ]
  },
  {
   "attachments": {},
   "cell_type": "markdown",
   "metadata": {},
   "source": [
    "Function for calculating the TTE"
   ]
  },
  {
   "cell_type": "code",
   "execution_count": 14,
   "metadata": {},
   "outputs": [],
   "source": [
    "def calculate_tte():\n",
    "    # Take age, gender, height and weight from the user\n",
    "    age = 28\n",
    "    gender = 'f'\n",
    "    height = 160\n",
    "    weight = 55\n",
    "\n",
    "    # Calculate BMR\n",
    "    if gender.lower() == 'm':\n",
    "        bmr = 88.362 + (13.397 * weight) + (4.799 * height) - (5.677 * age)\n",
    "    else:\n",
    "        bmr = 447.593 + (9.247 * weight) + (3.098 * height) - (4.330 * age)\n",
    "\n",
    "    # Calculate TTE (because they want to be active, I chose 1.7)\n",
    "    # TTE is stands on Total Energy Expenditure\n",
    "    calculated_tte = bmr * 1.7\n",
    "\n",
    "    return calculated_tte\n",
    "tte = calculate_tte()"
   ]
  },
  {
   "attachments": {},
   "cell_type": "markdown",
   "metadata": {},
   "source": [
    "Read the USDA dataset"
   ]
  },
  {
   "cell_type": "code",
   "execution_count": 15,
   "metadata": {},
   "outputs": [],
   "source": [
    "df = pd.read_csv('USDA.csv')\n",
    "df = df.dropna(axis=0, how='any')\n",
    "df.drop_duplicates(subset=None, inplace=True)"
   ]
  },
  {
   "attachments": {},
   "cell_type": "markdown",
   "metadata": {},
   "source": [
    "Obtain map between ingredients and nutrition"
   ]
  },
  {
   "cell_type": "code",
   "execution_count": 16,
   "metadata": {},
   "outputs": [],
   "source": [
    "ingredients = list(df['Description'])\n",
    "ingredient_calorie_map = dict(zip(ingredients, df['Calories']))\n",
    "ingredient_protein_map = dict(zip(ingredients, df['Protein']))\n",
    "ingredient_total_fat_map = dict(zip(ingredients, df['TotalFat']))\n",
    "ingredient_carbohydrate_map = dict(zip(ingredients, df['Carbohydrate']))\n",
    "ingredient_iron_map = dict(zip(ingredients, df['Iron']))"
   ]
  },
  {
   "attachments": {},
   "cell_type": "markdown",
   "metadata": {},
   "source": [
    "Define minimum constraints for Fat, Carbohydrate, Protein, and Iron for athletes and someone who wants to lose weight"
   ]
  },
  {
   "cell_type": "code",
   "execution_count": 17,
   "metadata": {},
   "outputs": [],
   "source": [
    "min_calories = tte - 200\n",
    "min_fat = 0.25 * tte / 9\n",
    "min_carbohydrate = 0.50 * tte / 4\n",
    "min_protein = 0.15 * tte / 4\n",
    "min_iron = 0.0043 * tte\n",
    "\n",
    "max_calories = tte + 200\n",
    "max_fat = 0.4 * tte / 9\n",
    "max_carbohydrate = 0.7 * tte / 4\n",
    "max_protein = 0.4 * tte / 4\n",
    "max_iron = 0.009 * tte"
   ]
  },
  {
   "attachments": {},
   "cell_type": "markdown",
   "metadata": {},
   "source": [
    "Define linear programming problem and also its constrains"
   ]
  },
  {
   "cell_type": "code",
   "execution_count": 18,
   "metadata": {},
   "outputs": [
    {
     "data": {
      "text/plain": [
       "1"
      ]
     },
     "execution_count": 18,
     "metadata": {},
     "output_type": "execute_result"
    }
   ],
   "source": [
    "problem = LpProblem('Diet_plan', LpMinimize)\n",
    "food_vars = LpVariable.dicts('Food', ingredients, 0, cat='Integer')\n",
    "\n",
    "# Calories\n",
    "problem += lpSum([ingredient_calorie_map[f] * food_vars[f] for f in ingredients]) >= min_calories, 'CaloriesMinimum'\n",
    "problem += lpSum([ingredient_calorie_map[f] * food_vars[f] for f in ingredients]) <= max_calories, 'CaloriesMaximum'\n",
    "\n",
    "# Fat\n",
    "problem += lpSum([ingredient_total_fat_map[f] * food_vars[f] for f in ingredients]) >= min_fat, 'FatMinimum'\n",
    "problem += lpSum([ingredient_total_fat_map[f] * food_vars[f] for f in ingredients]) <= max_fat, 'FatMaximum'\n",
    "\n",
    "# Carbohydrate\n",
    "problem += lpSum(\n",
    "    [ingredient_carbohydrate_map[f] * food_vars[f] for f in ingredients]) >= min_carbohydrate, 'CarbsMinimum'\n",
    "problem += lpSum(\n",
    "    [ingredient_carbohydrate_map[f] * food_vars[f] for f in ingredients]) <= max_carbohydrate, 'CarbsMaximum'\n",
    "\n",
    "# Protein\n",
    "problem += lpSum([ingredient_protein_map[f] * food_vars[f] for f in ingredients]) >= min_protein, 'ProteinMinimum'\n",
    "problem += lpSum([ingredient_protein_map[f] * food_vars[f] for f in ingredients]) <= max_protein, 'ProteinMaximum'\n",
    "\n",
    "# Iron\n",
    "problem += lpSum([ingredient_iron_map[f] * food_vars[f] for f in ingredients]) >= min_iron, 'IronMinimum'\n",
    "problem += lpSum([ingredient_iron_map[f] * food_vars[f] for f in ingredients]) <= max_iron, 'IronMaximum'\n",
    "\n",
    "problem.solve(PULP_CBC_CMD(msg=False))"
   ]
  },
  {
   "attachments": {},
   "cell_type": "markdown",
   "metadata": {},
   "source": [
    "Define list of meals and also initialize a dict for map meals to their ingredients"
   ]
  },
  {
   "cell_type": "code",
   "execution_count": 19,
   "metadata": {},
   "outputs": [],
   "source": [
    "meals = ['Breakfast', 'Morning snack', 'Lunch', 'Afternoon snack', 'Dinner']\n",
    "meals_dict = {\n",
    "    'Breakfast': [],\n",
    "    'Morning snack': [],\n",
    "    'Lunch': [],\n",
    "    'Afternoon snack': [],\n",
    "    'Dinner': []\n",
    "}"
   ]
  },
  {
   "attachments": {},
   "cell_type": "markdown",
   "metadata": {},
   "source": [
    "If the solver could reach to optimal solve for the problem we define above, we can arrange the meals"
   ]
  },
  {
   "cell_type": "code",
   "execution_count": 20,
   "metadata": {},
   "outputs": [
    {
     "name": "stdout",
     "output_type": "stream",
     "text": [
      "- Breakfast\n",
      "    - 1.0 SYRUPS,DIETETIC\n",
      "    - 4.0 FAT FREE ICE CRM,NO SUGAR ADDED,FLAVORS OTHER THAN CHOC\n",
      "    - 1.0 CHEESE,COTTAGE,CRMD,LRG OR SML CURD\n",
      "    - 1.0 CARBONATED BEV,CLUB SODA\n",
      "    - 1.0 WATER,TAP,DRINKING\n",
      "(Nutritional Content: Calories: 654.0, Fat: 4.3, Carbohydrate: 164.34, Protein: 29.560000000000002, Iron: 0.08)\n",
      "\n",
      "- Morning snack\n",
      "    - 555.0 CARBONATED BEV,CLUB SODA\n",
      "    - 1.0 CHEESE,COTTAGE,CRMD,W/FRUIT\n",
      "    - 1.0 CARBONATED BEV,LO CAL,OTHER THAN COLA OR PEPPER,WO/ CAFFEINE\n",
      "    - 1.0 WATER,TAP,MUNICIPAL\n",
      "(Nutritional Content: Calories: 97.0, Fat: 3.85, Carbohydrate: 4.61, Protein: 10.79, Iron: 5.75)\n",
      "\n",
      "- Lunch\n",
      "    - 34.0 SOUP,PEPPERPOT,CND,PREP W/ EQ VOLUME H2O\n",
      "    - 1.0 MILK,FILLED,FLUID,W/LAURIC ACID OIL\n",
      "    - 1.0 CARB BEV,LO CAL,OTHR THN COLA OR PEPPER,W/ ASPRT,CONTNS CAFF\n",
      "    - 1.0 WATER,BTLD,GENERIC\n",
      "(Nutritional Content: Calories: 1457.0, Fat: 66.30000000000001, Carbohydrate: 132.24, Protein: 89.78999999999999, Iron: 12.33)\n",
      "\n",
      "- Afternoon snack\n",
      "    - 1.0 ALCOHOLIC BEV,DISTILLED,ALL (GIN,RUM,VODKA,WHISKEY) 80 PROOF\n",
      "    - 1.0 SALT,TABLE\n",
      "    - 1.0 COFFEE,BREWED FROM GROUNDS,PREP W/ TAP H2O,DECAFFEINATED\n",
      "    - 1.0 SPORTS DRK,POWERADE ZERO ION4,CALORIE-FREE,ASSORTED FLAVORS\n",
      "(Nutritional Content: Calories: 231.0, Fat: 0.0, Carbohydrate: 0.0, Protein: 0.1, Iron: 0.47)\n",
      "\n",
      "- Dinner\n",
      "    - 1.0 VINEGAR,DISTILLED\n",
      "    - 1.0 SOUP,CHICK BROTH,CND,RTS\n",
      "    - 1.0 COFFEE,BREWED,ESPRESSO,REST-PREP,DECAFFEINATED\n",
      "    - 1.0 LEAVENING AGENTS,BAKING SODA\n",
      "(Nutritional Content: Calories: 23.0, Fat: 0.39, Carbohydrate: 0.47, Protein: 0.53, Iron: 0.36)\n",
      "\n",
      "Total Nutritional Content (for all of meals together): Calories: 2462.0, Fat: 74.84, Carbohydrate: 301.66, Protein: 130.76999999999998, Iron: 18.99\n"
     ]
    }
   ],
   "source": [
    "if LpStatus[problem.status] == 'Optimal':\n",
    "    total_calories = 0\n",
    "    total_fat = 0\n",
    "    total_carbohydrate = 0\n",
    "    total_protein = 0\n",
    "    total_iron = 0\n",
    "\n",
    "    # Obtain ingredients with varValue more than zero\n",
    "    suitable_ingredients_list = []\n",
    "    for ingredient in ingredients:\n",
    "        food_var = food_vars[ingredient]\n",
    "        if food_var.varValue is not None and food_var.varValue > 0:\n",
    "            suitable_ingredients_list.append(ingredient)\n",
    "\n",
    "    random.shuffle(suitable_ingredients_list)\n",
    "\n",
    "    # Put the ingredients in meals dict almost evenly\n",
    "    for index, ingredient in enumerate(suitable_ingredients_list):\n",
    "        food_var = food_vars[ingredient]\n",
    "        ingredient_amount = food_var.varValue\n",
    "        ing_fat = ingredient_total_fat_map.get(ingredient, 0) * ingredient_amount\n",
    "        ing_calories = ingredient_calorie_map.get(ingredient, 0) * ingredient_amount\n",
    "        ing_carbohydrate = ingredient_carbohydrate_map.get(ingredient, 0) * ingredient_amount\n",
    "        ing_protein = ingredient_protein_map.get(ingredient, 0) * ingredient_amount\n",
    "        ing_iron = ingredient_iron_map.get(ingredient, 0) * ingredient_amount\n",
    "\n",
    "        total_fat += ing_fat\n",
    "        total_calories += ing_calories\n",
    "        total_carbohydrate += ing_carbohydrate\n",
    "        total_protein += ing_protein\n",
    "        total_iron += ing_iron\n",
    "        meals_dict[meals[index % len(meals)]].append(\n",
    "            [ingredient, ingredient_amount, ing_fat, ing_calories, ing_carbohydrate, ing_protein, ing_iron])\n",
    "\n",
    "    # Find ingredient which doesn't break the constraints\n",
    "    additional_items = []\n",
    "    for ingredient in ingredients:\n",
    "        food_var = food_vars[ingredient]\n",
    "        ingredient_amount = 1.0\n",
    "        ing_fat = ingredient_total_fat_map.get(ingredient, 0) * ingredient_amount\n",
    "        ing_calorie = ingredient_calorie_map.get(ingredient, 0) * ingredient_amount\n",
    "        ing_carbohydrate = ingredient_carbohydrate_map.get(ingredient, 0) * ingredient_amount\n",
    "        ing_protein = ingredient_protein_map.get(ingredient, 0) * ingredient_amount\n",
    "        ing_iron = ingredient_iron_map.get(ingredient, 0) * ingredient_amount\n",
    "        if ing_fat + total_fat < max_fat and ing_carbohydrate + total_carbohydrate < max_carbohydrate \\\n",
    "                and ing_protein + total_protein < max_protein and ing_iron + total_iron < max_iron \\\n",
    "                and ing_calorie + total_calories < max_calories:\n",
    "            total_fat += ing_fat\n",
    "            total_calories += ing_calorie\n",
    "            total_carbohydrate += ing_carbohydrate\n",
    "            total_protein += ing_protein\n",
    "            total_iron += ing_iron\n",
    "            additional_items.append(\n",
    "                [ingredient, ingredient_amount, ing_fat, ing_calorie, ing_carbohydrate, ing_protein, ing_iron])\n",
    "    # Add additional items to the meals almost evenly\n",
    "    for index, item in enumerate(additional_items):\n",
    "        meals_dict[meals[index % len(meals)]].append(item)\n",
    "\n",
    "    # Print the output and calculate every meal nutritional content\n",
    "    for meal, data in meals_dict.items():\n",
    "        meal_fat = 0\n",
    "        meal_calories = 0\n",
    "        meal_carbohydrate = 0\n",
    "        meal_protein = 0\n",
    "        meal_iron = 0\n",
    "        print(f'- {meal}')\n",
    "        for item in data:\n",
    "            print(f'    - {item[1]} {item[0]}')\n",
    "            meal_fat += item[2]\n",
    "            meal_calories += item[3]\n",
    "            meal_carbohydrate += item[4]\n",
    "            meal_protein += item[5]\n",
    "            meal_iron += item[6]\n",
    "        print(f'(Nutritional Content: Calories: {meal_calories}, Fat: {meal_fat}, Carbohydrate: {meal_carbohydrate}, Protein: {meal_protein}, Iron: {meal_iron})')\n",
    "        print()\n",
    "\n",
    "    print(\n",
    "        f'Total Nutritional Content (for all of meals together): Calories: {total_calories}, Fat: {total_fat}, Carbohydrate: {total_carbohydrate}, Protein: {total_protein}, Iron: {total_iron}')\n",
    "else:\n",
    "    print('There is no solution with your input')\n"
   ]
  }
 ],
 "metadata": {
  "kernelspec": {
   "display_name": "venv",
   "language": "python",
   "name": "python3"
  },
  "language_info": {
   "codemirror_mode": {
    "name": "ipython",
    "version": 3
   },
   "file_extension": ".py",
   "mimetype": "text/x-python",
   "name": "python",
   "nbconvert_exporter": "python",
   "pygments_lexer": "ipython3",
   "version": "3.9.6"
  },
  "orig_nbformat": 4
 },
 "nbformat": 4,
 "nbformat_minor": 2
}
